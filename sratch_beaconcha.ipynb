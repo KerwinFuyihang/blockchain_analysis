{
 "cells": [
  {
   "cell_type": "code",
   "execution_count": null,
   "id": "0942e1b3",
   "metadata": {},
   "outputs": [],
   "source": [
    "import requests\n",
    "import re\n",
    "import json\n",
    "import ast\n",
    "\n",
    "# 指定网页的 URL\n",
    "url = \"https://beaconcha.in/charts/validators\"\n",
    "\n",
    "# 发送 HTTP GET 请求\n",
    "response = requests.get(url)\n",
    "\n",
    "# 检查响应的状态码\n",
    "if response.status_code == 200:\n",
    "    # 获取网页的源代码\n",
    "    html_source = response.text\n",
    "\n",
    "    # 使用正则表达式匹配以 \"name\":\"# of Validators\",\"data\": 开头的部分\n",
    "    pattern = r'\"name\":\"# of Validators\",\"data\":(.*?)]}'\n",
    "    match = re.search(pattern, html_source)\n",
    "\n",
    "    if match:\n",
    "        # 提取匹配到的部分，包括结尾的 \"}]\"\n",
    "        data_block = match.group(1) + ']'\n",
    "        csv_file = \"validator_data.csv\"\n",
    "        \n",
    "        data = ast.literal_eval(data_block)\n",
    "        # 将列表中的数据拆分为多个数对\n",
    "        flattened_data = [item for sublist in data for item in sublist]\n",
    "\n",
    "        # 将数据重新组织为数对的列表\n",
    "        pairs = [(flattened_data[i], flattened_data[i+1]) for i in range(0, len(flattened_data), 2)]\n",
    "\n",
    "        # 打开 CSV 文件以写入数据\n",
    "        with open(csv_file, mode=\"w\", newline=\"\") as file:\n",
    "            writer = csv.writer(file)\n",
    "\n",
    "            # 写入 CSV 文件的标题行\n",
    "            writer.writerow([\"Timestamp\", \"Value\"])\n",
    "\n",
    "            # 循环遍历数据并写入 CSV 文件\n",
    "            for pair in pairs:\n",
    "                writer.writerow(pair)\n",
    "\n",
    "        print(f\"数据已保存到 {csv_file} 文件中。\")\n",
    "else:\n",
    "    print(\"Failed to fetch data:\", response.status_code)\n",
    "\n",
    "    \n",
    "#validator数据\n",
    "#放弃API 直接对get返回的响应进行解析 然后通过正则匹配获取对应的数据项"
   ]
  }
 ],
 "metadata": {
  "kernelspec": {
   "display_name": "Python 3 (ipykernel)",
   "language": "python",
   "name": "python3"
  },
  "language_info": {
   "codemirror_mode": {
    "name": "ipython",
    "version": 3
   },
   "file_extension": ".py",
   "mimetype": "text/x-python",
   "name": "python",
   "nbconvert_exporter": "python",
   "pygments_lexer": "ipython3",
   "version": "3.8.8rc1"
  }
 },
 "nbformat": 4,
 "nbformat_minor": 5
}
